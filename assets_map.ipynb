{
 "cells": [
  {
   "cell_type": "markdown",
   "metadata": {},
   "source": [
    "### Stations"
   ]
  },
  {
   "cell_type": "code",
   "execution_count": 1,
   "metadata": {
    "collapsed": false
   },
   "outputs": [],
   "source": [
    "import pandas as pd\n",
    "\n",
    "\n",
    "stations = pd.read_excel('./spreadsheets/secoora_station_assets.xlsx', index_col=2)"
   ]
  },
  {
   "cell_type": "markdown",
   "metadata": {},
   "source": [
    "### HF-radar"
   ]
  },
  {
   "cell_type": "code",
   "execution_count": 2,
   "metadata": {
    "collapsed": true
   },
   "outputs": [],
   "source": [
    "hfradar = pd.read_excel('./spreadsheets/secoora_hfradar_sites.xlsx', index_col=3)\n",
    "ranges = dict({'16': 100, '12': 130, '8': 160, '5': 190})\n",
    "hfradar['Range'] = [ranges['{}'.format(int(key))] for key in  hfradar['MHz']]"
   ]
  },
  {
   "cell_type": "markdown",
   "metadata": {},
   "source": [
    "### Save matplotlib patch as GeoJSON"
   ]
  },
  {
   "cell_type": "code",
   "execution_count": 3,
   "metadata": {
    "collapsed": false
   },
   "outputs": [],
   "source": [
    "from matplotlib.patches import Wedge\n",
    "\n",
    "\n",
    "def make_wedge(radar):\n",
    "    \"\"\"\n",
    "    Make a HF-radar \"wedge\" from a StartAngle, SpreadAngle, Center (Longitude, Latitude), and Radius (radar range).\n",
    "\n",
    "    \"\"\"\n",
    "    r = radar['Range'] / 111.1  # deg2km\n",
    "    theta1, theta2 = radar['StartAngle'], radar['SpreadAngle'],\n",
    "    center = radar['Longitude'], radar['Latitude']\n",
    "    kw = dict(alpha=0.3, color='lightgreen')\n",
    "    return Wedge(center, r, theta1+theta2, theta1, **kw)"
   ]
  },
  {
   "cell_type": "code",
   "execution_count": 4,
   "metadata": {
    "collapsed": false
   },
   "outputs": [],
   "source": [
    "import json\n",
    "from shapely.geometry import polygon, mapping\n",
    "\n",
    "for name, radar in hfradar.dropna().iterrows():\n",
    "    patch = make_wedge(radar)\n",
    "    \n",
    "    p = patch.get_path()\n",
    "    shape = polygon.Polygon(p.vertices)\n",
    "    \n",
    "    with open('hfradar/{}.geojson'.format(name), \"w\") as geojson:\n",
    "        data = json.dumps(mapping(shape), indent=2)\n",
    "        geojson.write(data)"
   ]
  },
  {
   "cell_type": "markdown",
   "metadata": {},
   "source": [
    "This should be implemented as part of folium's API. For now the workaround is a \"hackish\" hard-coded icon insert."
   ]
  },
  {
   "cell_type": "code",
   "execution_count": 5,
   "metadata": {
    "collapsed": true
   },
   "outputs": [],
   "source": [
    "def normalize_name(name):\n",
    "    name = name.strip().lower()\n",
    "    name = name.replace(\"'\", \"\")\n",
    "    name = name.replace(\" \", \"_\")\n",
    "    return name"
   ]
  },
  {
   "cell_type": "code",
   "execution_count": 6,
   "metadata": {
    "collapsed": true
   },
   "outputs": [],
   "source": [
    "green_hfradar = \"\"\"\n",
    "var hf_radar_{name} = L.icon({{\n",
    "iconUrl: 'https://raw.githubusercontent.com/ioos/secoora/master/AbstractsPostersPresentations/assets_map/secoora_icons/hfradar-green.png',\n",
    "iconSize: [14, 14]}});\n",
    "L.marker({location}, {{icon: hf_radar_{name}}}).addTo(map).bindPopup(\"{popup}\");\n",
    "\"\"\".format\n",
    "\n",
    "orange_hfradar = \"\"\"\n",
    "var hf_radar_{name} = L.icon({{\n",
    "iconUrl: 'https://raw.githubusercontent.com/ioos/secoora/master/AbstractsPostersPresentations/assets_map/secoora_icons/hfradar-orange.png',\n",
    "iconSize: [14, 14]}});\n",
    "L.marker({location}, {{icon: hf_radar_{name}}}).addTo(map).bindPopup(\"{popup}\");\n",
    "\"\"\".format\n",
    "\n",
    "yellow_hfradar = \"\"\"\n",
    "var hf_radar_{name} = L.icon({{\n",
    "iconUrl: 'https://raw.githubusercontent.com/ioos/secoora/master/AbstractsPostersPresentations/assets_map/secoora_icons/hfradar-yellow.png',\n",
    "iconSize: [14, 14]}});\n",
    "L.marker({location}, {{icon: hf_radar_{name}}}).addTo(map).bindPopup(\"{popup}\");\n",
    "\"\"\".format"
   ]
  },
  {
   "cell_type": "markdown",
   "metadata": {},
   "source": [
    "Stations"
   ]
  },
  {
   "cell_type": "code",
   "execution_count": 7,
   "metadata": {
    "collapsed": true
   },
   "outputs": [],
   "source": [
    "green_buoy = \"\"\"\n",
    "var buoy_{name} = L.icon({{\n",
    "iconUrl: 'https://raw.githubusercontent.com/ioos/secoora/master/AbstractsPostersPresentations/assets_map/secoora_icons/buoy-green.png',\n",
    "iconSize: [14, 14]}});\n",
    "L.marker({location}, {{icon: buoy_{name}}}).addTo(map).bindPopup(\"{popup}\");\n",
    "\"\"\".format"
   ]
  },
  {
   "cell_type": "code",
   "execution_count": 8,
   "metadata": {
    "collapsed": true
   },
   "outputs": [],
   "source": [
    "green_coastal = \"\"\"\n",
    "var buoy_{name} = L.icon({{\n",
    "iconUrl: 'https://raw.githubusercontent.com/ioos/secoora/master/AbstractsPostersPresentations/assets_map/secoora_icons/shore_station-green.png',\n",
    "iconSize: [14, 14]}});\n",
    "L.marker({location}, {{icon: buoy_{name}}}).addTo(map).bindPopup(\"{popup}\");\n",
    "\"\"\".format\n",
    "\n",
    "orange_coastal  = \"\"\"\n",
    "var buoy_{name} = L.icon({{\n",
    "iconUrl: 'https://raw.githubusercontent.com/ioos/secoora/master/AbstractsPostersPresentations/assets_map/secoora_icons/shore_station-orange.png',\n",
    "iconSize: [14, 14]}});\n",
    "L.marker({location}, {{icon: buoy_{name}}}).addTo(map).bindPopup(\"{popup}\");\n",
    "\"\"\".format\n",
    "\n",
    "yellow_coastal  = \"\"\"\n",
    "var buoy_{name} = L.icon({{\n",
    "iconUrl: 'https://raw.githubusercontent.com/ioos/secoora/master/AbstractsPostersPresentations/assets_map/secoora_icons/shore_station-yellow.png',\n",
    "iconSize: [14, 14]}});\n",
    "L.marker({location}, {{icon: buoy_{name}}}).addTo(map).bindPopup(\"{popup}\");\n",
    "\"\"\".format"
   ]
  },
  {
   "cell_type": "code",
   "execution_count": 9,
   "metadata": {
    "collapsed": true
   },
   "outputs": [],
   "source": [
    "green_bottom_mtn = \"\"\"\n",
    "var buoy_{name} = L.icon({{\n",
    "iconUrl: 'https://raw.githubusercontent.com/ioos/secoora/master/AbstractsPostersPresentations/assets_map/secoora_icons/tri-green.png',\n",
    "iconSize: [14, 14]}});\n",
    "L.marker({location}, {{icon: buoy_{name}}}).addTo(map).bindPopup(\"{popup}\");\n",
    "\"\"\".format\n",
    "\n",
    "orange_bottom_mtn = \"\"\"\n",
    "var buoy_{name} = L.icon({{\n",
    "iconUrl: 'https://raw.githubusercontent.com/ioos/secoora/master/AbstractsPostersPresentations/assets_map/secoora_icons/tri-orange.png',\n",
    "iconSize: [14, 14]}});\n",
    "L.marker({location}, {{icon: buoy_{name}}}).addTo(map).bindPopup(\"{popup}\");\n",
    "\"\"\".format"
   ]
  },
  {
   "cell_type": "code",
   "execution_count": 10,
   "metadata": {
    "collapsed": true
   },
   "outputs": [],
   "source": [
    "green_bottom_stn = \"\"\"\n",
    "var buoy_{name} = L.icon({{\n",
    "iconUrl: 'https://raw.githubusercontent.com/ioos/secoora/master/AbstractsPostersPresentations/assets_map/secoora_icons/circ-green.png',\n",
    "iconSize: [12, 12]}});\n",
    "L.marker({location}, {{icon: buoy_{name}}}).addTo(map).bindPopup(\"{popup}\");\n",
    "\"\"\".format"
   ]
  },
  {
   "cell_type": "code",
   "execution_count": 11,
   "metadata": {
    "collapsed": false
   },
   "outputs": [],
   "source": [
    "from glob import glob\n",
    "import folium\n",
    "\n",
    "lon, lat = -86.276, 30.935 \n",
    "zoom_start = 5\n",
    "\n",
    "mapa = folium.Map(location=[lat, lon], tiles=\"OpenStreetMap\",\n",
    "                  zoom_start=zoom_start)\n",
    "\n",
    "\n",
    "jsons = glob('hfradar/*.geojson')\n",
    "for json in jsons:\n",
    "    kw = dict(fill_color='#DEFFDE', line_color='#AECCAE')\n",
    "    mapa.geo_json(geo_path=json, **kw)\n",
    "\n",
    "\n",
    "hfradars = []\n",
    "for name, row in hfradar.iterrows():\n",
    "    popup = '{} ({} MHz)'.format(row['DisplayTitle'], row['MHz'])\n",
    "    name = normalize_name(name)\n",
    "    location = [row['Latitude'], row['Longitude']]\n",
    "    info = dict(name=name,\n",
    "                popup=popup,\n",
    "                location=location)\n",
    "    status = row['Status']\n",
    "    if status == 'Operational':\n",
    "        hfradars.append(green_hfradar(**info))\n",
    "    elif status == 'Permitting':\n",
    "        hfradars.append(yellow_hfradar(**info))\n",
    "    elif status == 'Planned':\n",
    "        hfradars.append(orange_hfradar(**info))\n",
    "\n",
    "platforms = []\n",
    "for name, row in stations.iterrows():\n",
    "    popup = name#.replace(\"'\", \"\")\n",
    "    name = normalize_name(name)\n",
    "    location = [row['Latitude'], row['Longitude']]\n",
    "    info = dict(name=name,\n",
    "                popup=popup,\n",
    "                location=location)\n",
    "    \n",
    "    platform_type, status = row['PlatformType'], row['Status']\n",
    "    if  platform_type == 'Fixed Surface Buoy':  # All buoys are green for now.\n",
    "        platforms.append(green_buoy(**info))\n",
    "    elif platform_type == 'Fixed Coastal Station' and status == 'Operational':\n",
    "        platforms.append(green_coastal(**info))\n",
    "    elif platform_type == 'Fixed Coastal Station' and status == 'Construction':\n",
    "        platforms.append(yellow_coastal(**info))\n",
    "    elif platform_type == 'Fixed Coastal Station' and status == 'Planned':\n",
    "        platforms.append(orange_coastal(**info))\n",
    "    elif platform_type == 'Fixed Bottom Mount Mooring' and status == 'Operational':\n",
    "        platforms.append(green_bottom_mtn(**info))\n",
    "    elif platform_type == 'Fixed Bottom Mount Mooring' and status == 'Planned':\n",
    "        platforms.append(orange_bottom_mtn(**info))\n",
    "    elif platform_type == 'Fixed Bottom Station' and status == 'Operational':\n",
    "        platforms.append(green_bottom_stn(**info))\n",
    "\n",
    "fname = \"secoora_assets.html\"\n",
    "mapa.create_map(fname)"
   ]
  },
  {
   "cell_type": "code",
   "execution_count": 12,
   "metadata": {
    "collapsed": false
   },
   "outputs": [
    {
     "data": {
      "text/html": [
       "\n",
       "        <iframe\n",
       "            width=\"750\"\n",
       "            height=\"500\"\n",
       "            src=\"secoora_assets.html\"\n",
       "            frameborder=\"0\"\n",
       "            allowfullscreen\n",
       "        ></iframe>\n",
       "        "
      ],
      "text/plain": [
       "<IPython.lib.display.IFrame at 0x7f775a058f90>"
      ]
     },
     "execution_count": 12,
     "metadata": {},
     "output_type": "execute_result"
    }
   ],
   "source": [
    "import fileinput\n",
    "\n",
    "def inline_map(mapa):\n",
    "    from folium import Map\n",
    "    from IPython.display import IFrame\n",
    "    embed = IFrame(mapa, width=750, height=500)\n",
    "    return embed\n",
    "\n",
    "\n",
    "assets = '\\n'.join(hfradars + platforms) \n",
    "\n",
    "add_lines = False\n",
    "for line in fileinput.input(fname, inplace=True):\n",
    "    if 'gJson_layer_13' in line:\n",
    "        add_lines = True\n",
    "    else:\n",
    "        if add_lines:\n",
    "            print(assets)\n",
    "        add_lines = False\n",
    "    print line,\n",
    "\n",
    "inline_map(fname)"
   ]
  }
 ],
 "metadata": {
  "kernelspec": {
   "display_name": "Python 2",
   "language": "python",
   "name": "python2"
  },
  "language_info": {
   "codemirror_mode": {
    "name": "ipython",
    "version": 2
   },
   "file_extension": ".py",
   "mimetype": "text/x-python",
   "name": "python",
   "nbconvert_exporter": "python",
   "pygments_lexer": "ipython2",
   "version": "2.7.10"
  }
 },
 "nbformat": 4,
 "nbformat_minor": 0
}
